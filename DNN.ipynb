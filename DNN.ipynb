{
 "cells": [
  {
   "cell_type": "code",
   "execution_count": 1,
   "metadata": {},
   "outputs": [
    {
     "name": "stdout",
     "output_type": "stream",
     "text": [
      "hello world\n"
     ]
    }
   ],
   "source": [
    "import tensorflow as tf\n",
    "\n",
    "# Define the number of neurons in each hidden layer\n",
    "n_neurons = 100\n",
    "\n",
    "# Define the input and output size\n",
    "n_inputs = 784  # Assuming input images of size 28 x 28 pixels\n",
    "n_outputs = 10  # Assuming 10 classes for classification\n",
    "\n"
   ]
  },
  {
   "attachments": {},
   "cell_type": "markdown",
   "metadata": {},
   "source": [
    "### Build a DNN with 20 hidden layers of 100 neurons each (that’s too many, but it’s the\n",
    "### point of this exercise). Use He initialization and the ELU activation function."
   ]
  },
  {
   "cell_type": "code",
   "execution_count": null,
   "metadata": {},
   "outputs": [],
   "source": [
    "import tensorflow as tf\n",
    "\n",
    "# Define the number of neurons in each hidden layer\n",
    "n_neurons = 100\n",
    "\n",
    "# Define the input and output size\n",
    "n_inputs = 784  # Assuming input images of size 28 x 28 pixels\n",
    "n_outputs = 10  # Assuming 10 classes for classification\n",
    "\n",
    "# Define the He initialization method\n",
    "he_init = tf.keras.initializers.he_normal()\n",
    "\n",
    "# Define the ELU activation function\n",
    "elu = tf.keras.activations.elu\n",
    "\n",
    "# Define the deep neural network\n",
    "model = tf.keras.models.Sequential()\n",
    "\n",
    "# Add the first hidden layer with input size\n",
    "model.add(tf.keras.layers.Dense(n_neurons, input_shape=(n_inputs,), activation=elu, kernel_initializer=he_init))\n",
    "\n",
    "# Add 20 hidden layers with ELU activation and He initialization\n",
    "for layer in range(20):\n",
    "    model.add(tf.keras.layers.Dense(n_neurons, activation=elu, kernel_initializer=he_init))\n",
    "\n",
    "# Add the output layer with softmax activation\n",
    "model.add(tf.keras.layers.Dense(n_outputs, activation='softmax'))\n",
    "\n",
    "# Compile the model with categorical cross-entropy loss and Adam optimizer\n",
    "model.compile(loss='categorical_crossentropy', optimizer='adam', metrics=['accuracy'])\n",
    "\n",
    "# Print the model summary\n",
    "model.summary()"
   ]
  }
 ],
 "metadata": {
  "kernelspec": {
   "display_name": "Python 3",
   "language": "python",
   "name": "python3"
  },
  "language_info": {
   "codemirror_mode": {
    "name": "ipython",
    "version": 3
   },
   "file_extension": ".py",
   "mimetype": "text/x-python",
   "name": "python",
   "nbconvert_exporter": "python",
   "pygments_lexer": "ipython3",
   "version": "3.7.16"
  },
  "orig_nbformat": 4
 },
 "nbformat": 4,
 "nbformat_minor": 2
}
